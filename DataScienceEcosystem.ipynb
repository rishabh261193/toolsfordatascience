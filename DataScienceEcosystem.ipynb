{
 "cells": [
  {
   "cell_type": "markdown",
   "id": "8a285d98-8a48-48e0-8330-fe040aff5552",
   "metadata": {},
   "source": [
    "# Data Science Tools and Ecosystem"
   ]
  },
  {
   "cell_type": "markdown",
   "id": "2634e52d-1cf6-48a1-ae78-7b85a41650ce",
   "metadata": {},
   "source": [
    "In this notebook, Data Science Tools and Ecosystem are summarized."
   ]
  },
  {
   "cell_type": "markdown",
   "id": "56f823e9-bfcc-40e5-8222-46e030d0b213",
   "metadata": {},
   "source": [
    "**Objectives:**  \n",
    "\n",
    "- List popular languages for Data Science  \n",
    "- Identify commonly used libraries in Data Science  \n",
    "- Explore open-source development environment tools  \n",
    "- Perform basic arithmetic expressions in Python  \n",
    "- Convert minutes into hours and minutes using Python  \n"
   ]
  },
  {
   "cell_type": "markdown",
   "id": "08c8894c-eca2-4e5f-bd14-63bdd01c1e96",
   "metadata": {},
   "source": [
    "Some of the popular languages that Data Scientists use are:\n",
    "1. Python\n",
    "2. R\n",
    "3. SQL\n",
    "4. Julia"
   ]
  },
  {
   "cell_type": "markdown",
   "id": "004625b3-e483-4782-a509-ae83b93f60fa",
   "metadata": {},
   "source": [
    "Some of the commonly used libraries used by Data Scientists include:\n",
    "1. Numpy\n",
    "2. Matplotlib\n",
    "3. ggplot2\n",
    "4. shiny"
   ]
  },
  {
   "cell_type": "markdown",
   "id": "013f8669-e805-4bb8-b3a9-d62c7d244dc4",
   "metadata": {},
   "source": [
    "| Data Science Tools  |\n",
    "|---------------------|\n",
    "| Jupyter Notebook   |\n",
    "| RStudio           |\n",
    "| Apache Zeppelin   |"
   ]
  },
  {
   "cell_type": "markdown",
   "id": "48bf4252-551c-412c-ae45-a356af25e011",
   "metadata": {},
   "source": [
    "### Below are a few examples of evaluating arithmetic expressions in Python"
   ]
  },
  {
   "cell_type": "code",
   "execution_count": 4,
   "id": "f86597ff-52d4-4121-bb7e-a4059480f919",
   "metadata": {},
   "outputs": [
    {
     "data": {
      "text/plain": [
       "17"
      ]
     },
     "execution_count": 4,
     "metadata": {},
     "output_type": "execute_result"
    }
   ],
   "source": [
    "# This is a simple arithmetic expression to multiply then add integers.\n",
    "(3 * 4) + 5"
   ]
  },
  {
   "cell_type": "code",
   "execution_count": 5,
   "id": "80c93889-22d1-42d3-9063-0ea1ee12d3e5",
   "metadata": {},
   "outputs": [
    {
     "data": {
      "text/plain": [
       "'3 hours and 20 minutes'"
      ]
     },
     "execution_count": 5,
     "metadata": {},
     "output_type": "execute_result"
    }
   ],
   "source": [
    "# This will convert 200 minutes into hours and minutes.\n",
    "minutes = 200\n",
    "hours = minutes // 60  # Get the whole number of hours\n",
    "remaining_minutes = minutes % 60  # Get the remaining minutes\n",
    "\n",
    "# Display the result\n",
    "f\"{hours} hours and {remaining_minutes} minutes\""
   ]
  },
  {
   "cell_type": "markdown",
   "id": "86839dd0-6792-4ebf-959f-e775676d1217",
   "metadata": {},
   "source": [
    "## Author  \n",
    "Anand Rishabh Sanjeev"
   ]
  },
  {
   "cell_type": "code",
   "execution_count": null,
   "id": "311722e3-d9dc-441d-8dbe-c02ae6c1ae59",
   "metadata": {},
   "outputs": [],
   "source": []
  }
 ],
 "metadata": {
  "kernelspec": {
   "display_name": "Python 3 (ipykernel)",
   "language": "python",
   "name": "python3"
  },
  "language_info": {
   "codemirror_mode": {
    "name": "ipython",
    "version": 3
   },
   "file_extension": ".py",
   "mimetype": "text/x-python",
   "name": "python",
   "nbconvert_exporter": "python",
   "pygments_lexer": "ipython3",
   "version": "3.12.9"
  }
 },
 "nbformat": 4,
 "nbformat_minor": 5
}
